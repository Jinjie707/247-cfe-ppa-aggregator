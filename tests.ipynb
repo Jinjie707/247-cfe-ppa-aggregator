{
 "cells": [
  {
   "cell_type": "code",
   "execution_count": 1,
   "id": "6b1cbd12",
   "metadata": {},
   "outputs": [
    {
     "name": "stderr",
     "output_type": "stream",
     "text": [
      "/home/wpx/miniconda3/envs/stlit/lib/python3.13/site-packages/numpy/_core/getlimits.py:551: UserWarning: Signature b'\\x00\\xd0\\xcc\\xcc\\xcc\\xcc\\xcc\\xcc\\xfb\\xbf\\x00\\x00\\x00\\x00\\x00\\x00' for <class 'numpy.longdouble'> does not match any known type: falling back to type probe function.\n",
      "This warnings indicates broken support for the dtype!\n",
      "  machar = _get_machar(dtype)\n"
     ]
    }
   ],
   "source": [
    "import numpy as np\n",
    "import pandas as pd\n",
    "import matplotlib.pyplot as plt\n",
    "from testing import Tester"
   ]
  },
  {
   "cell_type": "markdown",
   "id": "eba1dee1",
   "metadata": {},
   "source": [
    "# Test Cases\n",
    "- For all 12 cases, 3 tests for sanity check of the optimization result.\n",
    "    1. Sum of individual PPA provision matches total PPA provision.\n",
    "    2. Matches the target CFE level: total PPA provision / total demand >= CFE target\n",
    "    3. Consistency of optimal price: sum of individual costs matches the final PPA price computated.\n",
    "\n",
    "- Most using default parameters\n",
    "    - Penalty: using sample spot price, pen_factor = 3, pen_cap = 500\n",
    "    - New gen: using sample 1MW wind, LCOE = 30, PAP PPA price = 20\n",
    "    - Existing/New bat: LCOS = 120, RTE = 0.9, Max_charging_cycle = 1, capacity = 100MWh, charging_rate = 25 MW\n",
    "        - sub case for battery: LCOS = 50 for some cases with penalty\n",
    "\n",
    "\n",
    "- **Warning**: \n",
    "    1. *A lot of hard coding*\n",
    "    2. Cases involving **New Battery** and **New Asset** often fail the some test cases due to rounding error, check the print statement for details."
   ]
  },
  {
   "cell_type": "markdown",
   "id": "c9344d5f",
   "metadata": {},
   "source": [
    "### Case 0 No Pen No Bat"
   ]
  },
  {
   "cell_type": "code",
   "execution_count": null,
   "id": "ae2eb3c3",
   "metadata": {},
   "outputs": [
    {
     "name": "stdout",
     "output_type": "stream",
     "text": [
      "[PASS] Total RE Provision Matched with Aggregated Quantity\n",
      "[PASS] Total Energy Provision Matched with Demand at Target CFE%\n",
      "[PASS] Optimal Price Matched\n"
     ]
    }
   ],
   "source": [
    "# Case 0\n",
    "opt_output = pd.read_csv('/home/wpx/TP-REC/PPA_Aggregator_Github/outputs_testing/case_0_0.75_optimization_output.csv')\n",
    "opt_price = float(str(np.loadtxt('/home/wpx/TP-REC/PPA_Aggregator_Github/outputs_testing/case_0_0.75_Price.txt', dtype='str', delimiter=','))[21:28])\n",
    "\n",
    "lcoe = [20, 23, 25, 30, 35]\n",
    "\n",
    "tester = Tester(0, 0.75, 5, 3, lcoe, opt_output, opt_price)\n",
    "\n",
    "tester.test_total_re_gen()\n",
    "tester.test_matching_level()\n",
    "tester.test_optimal_price()"
   ]
  },
  {
   "cell_type": "markdown",
   "id": "69150364",
   "metadata": {},
   "source": [
    "### Case 1 No Pen No Bat New Asset"
   ]
  },
  {
   "cell_type": "code",
   "execution_count": null,
   "id": "5dcefe4d",
   "metadata": {},
   "outputs": [
    {
     "name": "stdout",
     "output_type": "stream",
     "text": [
      "[PASS] Total RE Provision Matched with Aggregated Quantity\n",
      "[PASS] Total Energy Provision Matched with Demand at Target CFE%\n",
      "[PASS] Optimal Price Matched\n"
     ]
    }
   ],
   "source": [
    "# Case 0\n",
    "opt_output = pd.read_csv('/home/wpx/TP-REC/PPA_Aggregator_Github/outputs_testing/case_1_0.85_optimization_output.csv')\n",
    "opt_price = float(np.loadtxt('/home/wpx/TP-REC/PPA_Aggregator_Github/outputs_testing/case_1_0.85_ppa_price.txt', dtype='str')[0][4][:7])\n",
    "new_asset_cap = float(np.loadtxt('/home/wpx/TP-REC/PPA_Aggregator_Github/outputs_testing/case_1_0.85_ppa_price.txt', dtype='str')[1][4][:7])\n",
    "# print(np.loadtxt('/home/wpx/TP-REC/PPA_Aggregator_Github/outputs_testing/case_1_0.85_ppa_price.txt', dtype='str')[0][4])\n",
    "# opt_price = float(str(np.loadtxt('/home/wpx/TP-REC/PPA_Aggregator_Github/outputs_testing/case_1_0.85_ppa_price.txt', dtype='str', delimiter=','))[21:28])\n",
    "\n",
    "\n",
    "lcoe = [20, 23, 25, 30, 35]\n",
    "new_asset_lcoe = 30\n",
    "\n",
    "tester = Tester(0, 0.85, 6, 3, lcoe, opt_output, opt_price, \n",
    "                new_asset_lcoe = new_asset_lcoe, new_asset_pap_price = 20)\n",
    "\n",
    "tester.test_total_re_gen()\n",
    "tester.test_matching_level()\n",
    "tester.test_optimal_price()"
   ]
  },
  {
   "cell_type": "markdown",
   "id": "6fb12d58",
   "metadata": {},
   "source": [
    "### Case 2 No Pen New Bat"
   ]
  },
  {
   "cell_type": "code",
   "execution_count": null,
   "id": "b3902855",
   "metadata": {},
   "outputs": [
    {
     "name": "stdout",
     "output_type": "stream",
     "text": [
      "[PASS] Total RE Provision Matched with Aggregated Quantity\n",
      "[ERROR] Total Energy Provision NOT Matched with Demand at Target CFE%\n",
      "Cur level 0.84428\n",
      "[ERROR] Optimal price NOT Matched\n",
      "computed: 43.5529 In result: 43.553\n",
      "re_cost 26704208.97968602\n",
      "bat_cost 15872681.999999998\n",
      "mkt cost 0.0\n",
      "res excess rev 0\n",
      "total prov 977590.9385275298\n"
     ]
    }
   ],
   "source": [
    "opt_output = pd.read_csv('/home/wpx/TP-REC/PPA_Aggregator_Github/outputs_testing/case_2_0.85_optimization_output.csv')\n",
    "opt_price = float(np.loadtxt('/home/wpx/TP-REC/PPA_Aggregator_Github/outputs_testing/case_2_0.85_ppa_price.txt', dtype='str')[0][4][:6])\n",
    "\n",
    "bat_capacity = float(np.loadtxt('/home/wpx/TP-REC/PPA_Aggregator_Github/outputs_testing/case_2_0.85_ppa_price.txt', dtype='str')[1][4][:6])\n",
    "bat_output = pd.read_csv('/home/wpx/TP-REC/PPA_Aggregator_Github/outputs_testing/case_2_0.85_bat_output.csv')\n",
    "bat_change = bat_output['Change in Energy (MWh)'].to_numpy()\n",
    "\n",
    "case_type = 2\n",
    "matching_lvl = 0.85\n",
    "lcoe = [20, 23, 25, 30, 35]\n",
    "no_gen = 5\n",
    "no_cus = 3\n",
    "\n",
    "bat_params = [120, bat_capacity, 0.9, 25, 1, 4]\n",
    "\n",
    "tester = Tester(case_type, matching_lvl, no_gen, no_cus, lcoe, opt_output, opt_price, \n",
    "                bat_change = bat_change, bat_params = bat_params)\n",
    "\n",
    "tester.test_total_re_gen()\n",
    "tester.test_matching_level()\n",
    "tester.test_optimal_price()\n"
   ]
  },
  {
   "cell_type": "markdown",
   "id": "8b67708e",
   "metadata": {},
   "source": [
    "### Case 3 No Pen New Bat New Asset"
   ]
  },
  {
   "cell_type": "code",
   "execution_count": null,
   "id": "33878d71",
   "metadata": {},
   "outputs": [
    {
     "name": "stdout",
     "output_type": "stream",
     "text": [
      "new asset cap 228.264\n",
      "new bat cap 88.345\n",
      "\n",
      "[ERROR] Total RE Provision NOT Matched with Aggregated Quantity\n",
      "Number of unmatched cases: 846\n",
      "\n",
      "Showing First 10 Lines of Mismatched Values\n",
      "Row 40 | Row sums 125.4 | Total gen value 125.41\n",
      "Row 63 | Row sums 122.63 | Total gen value 122.64\n",
      "Row 65 | Row sums 121.58 | Total gen value 121.57\n",
      "Row 82 | Row sums 125.69 | Total gen value 125.68\n",
      "Row 83 | Row sums 126.33 | Total gen value 126.34\n",
      "Row 93 | Row sums 120.24 | Total gen value 120.25\n",
      "Row 94 | Row sums 115.98 | Total gen value 115.97\n",
      "Row 244 | Row sums 83.64 | Total gen value 83.65\n",
      "Row 285 | Row sums 110.15 | Total gen value 110.14\n",
      "Row 288 | Row sums 109.5 | Total gen value 109.51\n",
      "Row 290 | Row sums 96.99 | Total gen value 97.0\n",
      "\n",
      "[PASS] Total Energy Provision Matched with Demand at Target CFE%\n",
      "[ERROR] Optimal price NOT Matched\n",
      "computed: 32.7554 In result: 32.755\n",
      "re_cost 33791613.223729834\n",
      "bat_cost 3869511.0\n",
      "mkt cost 0.0\n",
      "res excess rev 1872533.2654708656\n",
      "total prov 1092601.6371778203\n"
     ]
    }
   ],
   "source": [
    "opt_output = pd.read_csv('/home/wpx/TP-REC/PPA_Aggregator_Github/outputs_testing/case_3_0.95_optimization_output.csv')\n",
    "opt_price = float(np.loadtxt('/home/wpx/TP-REC/PPA_Aggregator_Github/outputs_testing/case_3_0.95_ppa_price.txt', dtype='str')[0][4][:6])\n",
    "\n",
    "new_asset_cap = float(np.loadtxt('/home/wpx/TP-REC/PPA_Aggregator_Github/outputs_testing/case_3_0.95_ppa_price.txt', dtype='str')[1][4][:7])\n",
    "\n",
    "bat_capacity = float(np.loadtxt('/home/wpx/TP-REC/PPA_Aggregator_Github/outputs_testing/case_3_0.95_ppa_price.txt', dtype='str')[2][4][:6])\n",
    "bat_output = pd.read_csv('/home/wpx/TP-REC/PPA_Aggregator_Github/outputs_testing/case_3_0.95_bat_output.csv')\n",
    "bat_change = bat_output['Change in Energy (MWh)'].to_numpy()\n",
    "\n",
    "\n",
    "print('new asset cap', new_asset_cap)\n",
    "print('new bat cap', bat_capacity)\n",
    "print('')\n",
    "\n",
    "case_type = 3\n",
    "matching_lvl = 0.95\n",
    "lcoe = [20, 23, 25, 30, 35]\n",
    "no_gen = 6\n",
    "no_cus = 3\n",
    "\n",
    "bat_params = [120, bat_capacity, 0.9, 25, 1, 4]\n",
    "new_asset_lcoe = 30\n",
    "\n",
    "tester = Tester(case_type, matching_lvl, no_gen, no_cus, lcoe, opt_output, opt_price, \n",
    "                bat_change = bat_change, bat_params = bat_params,\n",
    "                new_asset_lcoe = new_asset_lcoe, new_asset_pap_price = 20)\n",
    "\n",
    "tester.test_total_re_gen()\n",
    "tester.test_matching_level()\n",
    "tester.test_optimal_price()\n"
   ]
  },
  {
   "cell_type": "markdown",
   "id": "7cdcffd8",
   "metadata": {},
   "source": [
    "### Case 4 No Pen Ex Bat"
   ]
  },
  {
   "cell_type": "code",
   "execution_count": null,
   "id": "4aac44be",
   "metadata": {},
   "outputs": [
    {
     "name": "stdout",
     "output_type": "stream",
     "text": [
      "[PASS] Total RE Provision Matched with Aggregated Quantity\n",
      "[PASS] Total Energy Provision Matched with Demand at Target CFE%\n",
      "[PASS] Optimal Price Matched\n"
     ]
    }
   ],
   "source": [
    "opt_output = pd.read_csv('/home/wpx/TP-REC/PPA_Aggregator_Github/outputs_testing/case_4_0.75_optimization_output.csv')\n",
    "opt_price = float(str(np.loadtxt('/home/wpx/TP-REC/PPA_Aggregator_Github/outputs_testing/case_4_0.75_ppa_price.txt', dtype='str', delimiter=','))[21:28])\n",
    "\n",
    "\n",
    "bat_output = pd.read_csv('/home/wpx/TP-REC/PPA_Aggregator_Github/outputs_testing/case_4_0.75_bat_ouput.csv')\n",
    "bat_change = bat_output['Change in Energy (MWh)'].to_numpy()\n",
    "\n",
    "\n",
    "lcoe = [20, 23, 25, 30, 35]\n",
    "bat_params = [120, 100, 0.9, 25, 1, 4]\n",
    "\n",
    "tester = Tester(4, 0.75, 5, 4, lcoe, opt_output, opt_price, bat_change = bat_change, bat_params = bat_params)\n",
    "\n",
    "tester.test_total_re_gen()\n",
    "tester.test_matching_level()\n",
    "tester.test_optimal_price()"
   ]
  },
  {
   "cell_type": "markdown",
   "id": "c17673b9",
   "metadata": {},
   "source": [
    "### Case 5 No Pen Ex Bat New Asset"
   ]
  },
  {
   "cell_type": "code",
   "execution_count": null,
   "id": "e522ec24",
   "metadata": {},
   "outputs": [
    {
     "name": "stdout",
     "output_type": "stream",
     "text": [
      "[PASS] Total RE Provision Matched with Aggregated Quantity\n",
      "[PASS] Total Energy Provision Matched with Demand at Target CFE%\n",
      "[PASS] Optimal Price Matched\n"
     ]
    }
   ],
   "source": [
    "\n",
    "opt_output = pd.read_csv('/home/wpx/TP-REC/PPA_Aggregator_Github/outputs_testing/case_5_0.75_optimization_output.csv')\n",
    "opt_price = float(np.loadtxt('/home/wpx/TP-REC/PPA_Aggregator_Github/outputs_testing/case_5_0.75_ppa_price.txt', dtype='str')[0][4][:7])\n",
    "new_asset_cap = float(np.loadtxt('/home/wpx/TP-REC/PPA_Aggregator_Github/outputs_testing/case_5_0.75_ppa_price.txt', dtype='str')[1][4][:7])\n",
    "\n",
    "\n",
    "bat_output = pd.read_csv('/home/wpx/TP-REC/PPA_Aggregator_Github/outputs_testing/case_5_0.75_bat_output.csv')\n",
    "bat_change = bat_output['Change in Energy (MWh)'].to_numpy()\n",
    "\n",
    "case_type = 5\n",
    "matching_lvl = 0.75\n",
    "lcoe = [20, 23, 25, 30, 35]\n",
    "no_gen = 6\n",
    "no_cus = 4\n",
    "\n",
    "lcoe = [20, 23, 25, 30, 35]\n",
    "bat_params = [120, 100, 0.9, 25, 1, 4]\n",
    "new_asset_lcoe = 30\n",
    "\n",
    "tester = Tester(case_type, matching_lvl, no_gen, no_cus, lcoe, opt_output, opt_price, \n",
    "                bat_change = bat_change, bat_params = bat_params,  \n",
    "                new_asset_lcoe = new_asset_lcoe, new_asset_pap_price = 30)\n",
    "\n",
    "tester.test_total_re_gen()\n",
    "tester.test_matching_level()\n",
    "tester.test_optimal_price()"
   ]
  },
  {
   "cell_type": "markdown",
   "id": "bcae000c",
   "metadata": {},
   "source": [
    "### Case 6 Pen No Bat"
   ]
  },
  {
   "cell_type": "code",
   "execution_count": null,
   "id": "46b2dae6",
   "metadata": {},
   "outputs": [
    {
     "name": "stdout",
     "output_type": "stream",
     "text": [
      "[PASS] Total RE Provision Matched with Aggregated Quantity\n",
      "[PASS] Total Energy Provision Matched with Demand at Target CFE%\n",
      "[PASS] Optimal Price Matched\n"
     ]
    }
   ],
   "source": [
    "opt_output = pd.read_csv('/home/wpx/TP-REC/PPA_Aggregator_Github/outputs_testing/case_6_0.9_optimization_output.csv')\n",
    "opt_price = float(str(np.loadtxt('/home/wpx/TP-REC/PPA_Aggregator_Github/outputs_testing/case_6_0.9_ppa_price.txt', dtype='str', delimiter=','))[21:28])\n",
    "\n",
    "case_type = 6\n",
    "matching_lvl = 0.9\n",
    "lcoe = [20, 23, 25, 30, 35]\n",
    "no_gen = 5\n",
    "no_cus = 4\n",
    "\n",
    "spot_price = pd.read_excel('/home/wpx/TP-REC/PPA_Aggregator_v3_Solar_Simu/input/input/spot_2023.xlsx').to_numpy().flatten()\n",
    "pen_factor = 3\n",
    "pen_cap = 500\n",
    "\n",
    "\n",
    "tester = Tester(case_type, matching_lvl, no_gen, no_cus, lcoe, opt_output, opt_price, \n",
    "                spot_price = spot_price, pen_factor = pen_factor, pen_cap = 500)\n",
    "\n",
    "tester.test_total_re_gen()\n",
    "tester.test_matching_level()\n",
    "tester.test_optimal_price()"
   ]
  },
  {
   "cell_type": "markdown",
   "id": "20797429",
   "metadata": {},
   "source": [
    "### Case 7 Pen New Asset"
   ]
  },
  {
   "cell_type": "code",
   "execution_count": null,
   "id": "d9334953",
   "metadata": {},
   "outputs": [
    {
     "name": "stdout",
     "output_type": "stream",
     "text": [
      "[ERROR] Total RE Provision NOT Matched with Aggregated Quantity\n",
      "Number of unmatched cases: 15\n",
      "\n",
      "Showing First 10 Lines of Mismatched Values\n",
      "Row 316 | Row sums 94.63 | Total gen value 94.62\n",
      "Row 317 | Row sums 94.83 | Total gen value 94.82\n",
      "Row 604 | Row sums 91.35 | Total gen value 91.36\n",
      "Row 700 | Row sums 99.61 | Total gen value 99.6\n",
      "Row 941 | Row sums 109.95 | Total gen value 109.96\n",
      "Row 963 | Row sums 114.11 | Total gen value 114.12\n",
      "Row 1083 | Row sums 106.28 | Total gen value 106.29\n",
      "Row 1155 | Row sums 99.92 | Total gen value 99.91\n",
      "Row 1156 | Row sums 94.33 | Total gen value 94.34\n",
      "Row 1301 | Row sums 99.4 | Total gen value 99.39\n",
      "Row 1468 | Row sums 94.62 | Total gen value 94.63\n",
      "\n",
      "[PASS] Total Energy Provision Matched with Demand at Target CFE%\n",
      "[PASS] Optimal Price Matched\n"
     ]
    }
   ],
   "source": [
    "opt_output = pd.read_csv('/home/wpx/TP-REC/PPA_Aggregator_Github/outputs_testing/case_7_0.9_optimization_output.csv')\n",
    "opt_price = float(str(np.loadtxt('/home/wpx/TP-REC/PPA_Aggregator_Github/outputs_testing/case_7_0.9_ppa_price.txt', dtype='str', delimiter=','))[21:28])\n",
    "\n",
    "case_type = 7\n",
    "matching_lvl = 0.9\n",
    "lcoe = [20, 23, 25, 30, 35]\n",
    "no_gen = 6\n",
    "no_cus = 4\n",
    "\n",
    "spot_price = pd.read_excel('/home/wpx/TP-REC/PPA_Aggregator_v3_Solar_Simu/input/input/spot_2023.xlsx').to_numpy().flatten()\n",
    "pen_factor = 3\n",
    "pen_cap = 500\n",
    "\n",
    "new_asset_lcoe = 30\n",
    "new_asset_ppa_price = 20\n",
    "\n",
    "\n",
    "tester = Tester(case_type, matching_lvl, no_gen, no_cus, lcoe, opt_output, opt_price, \n",
    "                spot_price = spot_price, pen_factor = pen_factor, pen_cap = 500,\n",
    "                new_asset_lcoe = new_asset_lcoe, new_asset_pap_price = new_asset_ppa_price)\n",
    "\n",
    "tester.test_total_re_gen()\n",
    "tester.test_matching_level()\n",
    "tester.test_optimal_price()"
   ]
  },
  {
   "cell_type": "markdown",
   "id": "cc212ae0",
   "metadata": {},
   "source": [
    "### Case 8 Pen New Bat"
   ]
  },
  {
   "cell_type": "code",
   "execution_count": null,
   "id": "3dd3a612",
   "metadata": {},
   "outputs": [
    {
     "name": "stdout",
     "output_type": "stream",
     "text": [
      "[20.575 19.622 18.447 19.323 19.203 17.848 18.609 20.838 20.251 19.583]\n",
      "[PASS] Total RE Provision Matched with Aggregated Quantity\n",
      "[PASS] Total Energy Provision Matched with Demand at Target CFE%\n",
      "[ERROR] Optimal price NOT Matched\n",
      "computed: 30.6213 In result: 30.62\n",
      "re_cost 23077508.265809633\n",
      "bat_cost 0.0\n",
      "mkt cost 10379319.79801407\n",
      "res excess rev 0\n",
      "total prov 1092601.6371778224\n"
     ]
    }
   ],
   "source": [
    "opt_output = pd.read_csv('/home/wpx/TP-REC/PPA_Aggregator_Github/outputs_testing/case_8_0.95_optimization_output.csv')\n",
    "opt_price = float(str(np.loadtxt('/home/wpx/TP-REC/PPA_Aggregator_Github/outputs_testing/case_8_0.95_ppa_price.txt', dtype='str', delimiter=','))[23:28])\n",
    "\n",
    "bat_capacity = float(np.loadtxt('/home/wpx/TP-REC/PPA_Aggregator_Github/outputs_testing/case_8_0.95_ppa_price.txt', dtype='str')[1][4][:2])\n",
    "bat_output = pd.read_csv('/home/wpx/TP-REC/PPA_Aggregator_Github/outputs_testing/case_8_0.95_bat_output.csv')\n",
    "bat_change = bat_output['Change in Energy (MWh)'].to_numpy()\n",
    "\n",
    "case_type = 8\n",
    "matching_lvl = 0.95\n",
    "lcoe = [20, 23, 25, 30, 35]\n",
    "no_gen = 5\n",
    "no_cus = 3\n",
    "\n",
    "spot_price = pd.read_excel('/home/wpx/TP-REC/PPA_Aggregator_v3_Solar_Simu/input/input/spot_2023.xlsx').to_numpy().flatten()\n",
    "pen_factor = 3\n",
    "pen_cap = 500\n",
    "\n",
    "print(spot_price[:10])\n",
    "\n",
    "bat_params = [120, bat_capacity, 0.9, 25, 1, 4]\n",
    "\n",
    "tester = Tester(case_type, matching_lvl, no_gen, no_cus, lcoe, opt_output, opt_price, \n",
    "                bat_change = bat_change, bat_params = bat_params,\n",
    "                spot_price = spot_price, pen_factor = pen_factor, pen_cap = pen_cap)\n",
    "\n",
    "tester.test_total_re_gen()\n",
    "tester.test_matching_level()\n",
    "tester.test_optimal_price()"
   ]
  },
  {
   "cell_type": "code",
   "execution_count": null,
   "id": "16d4be9c",
   "metadata": {},
   "outputs": [
    {
     "name": "stdout",
     "output_type": "stream",
     "text": [
      "Bat capacity 22.882\n",
      "[20.575 19.622 18.447 19.323 19.203 17.848 18.609 20.838 20.251 19.583]\n",
      "[PASS] Total RE Provision Matched with Aggregated Quantity\n",
      "[PASS] Total Energy Provision Matched with Demand at Target CFE%\n",
      "[ERROR] Optimal price NOT Matched\n",
      "computed: 30.5961 In result: 30.59\n",
      "re_cost 23270704.348512013\n",
      "bat_cost 417596.50000000006\n",
      "mkt cost 9741082.728850057\n",
      "res excess rev 0\n",
      "total prov 1092601.6371778212\n"
     ]
    },
    {
     "data": {
      "text/plain": [
       "'\\nRE cost 23270704.348512013\\nMKT cost 9741082.728850057\\ntotal_prov 1092601.6371778247\\n'"
      ]
     },
     "execution_count": 30,
     "metadata": {},
     "output_type": "execute_result"
    }
   ],
   "source": [
    "# Case with battery, by putting lcos = 50\n",
    "\n",
    "opt_output = pd.read_csv('/home/wpx/TP-REC/PPA_Aggregator_Github/outputs_testing/case_8_0.95_optimization_output_50_bat.csv')\n",
    "opt_price = float(str(np.loadtxt('/home/wpx/TP-REC/PPA_Aggregator_Github/outputs_testing/case_8_0.95_ppa_price_50_bat.txt', dtype='str', delimiter=','))[23:28])\n",
    "\n",
    "bat_capacity = float(np.loadtxt('/home/wpx/TP-REC/PPA_Aggregator_Github/outputs_testing/case_8_0.95_ppa_price_50_bat.txt', dtype='str')[1][4][:6])\n",
    "bat_output = pd.read_csv('/home/wpx/TP-REC/PPA_Aggregator_Github/outputs_testing/case_8_0.95_bat_output_50_bat.csv')\n",
    "bat_change = bat_output['Change in Energy (MWh)'].to_numpy()\n",
    "\n",
    "print('Bat capacity', bat_capacity)\n",
    "case_type = 8\n",
    "matching_lvl = 0.95\n",
    "lcoe = [20, 23, 25, 30, 35]\n",
    "no_gen = 5\n",
    "no_cus = 3\n",
    "\n",
    "spot_price = pd.read_excel('/home/wpx/TP-REC/PPA_Aggregator_v3_Solar_Simu/input/input/spot_2023.xlsx').to_numpy().flatten()\n",
    "pen_factor = 3\n",
    "pen_cap = 500\n",
    "\n",
    "print(spot_price[:10])\n",
    "\n",
    "bat_params = [50, bat_capacity, 0.9, 25, 1, 4]\n",
    "\n",
    "tester = Tester(case_type, matching_lvl, no_gen, no_cus, lcoe, opt_output, opt_price, \n",
    "                bat_change = bat_change, bat_params = bat_params,\n",
    "                spot_price = spot_price, pen_factor = pen_factor, pen_cap = pen_cap)\n",
    "\n",
    "tester.test_total_re_gen()\n",
    "tester.test_matching_level()\n",
    "tester.test_optimal_price()\n",
    "\n",
    "'''\n",
    "RE cost 23270704.348512013\n",
    "MKT cost 9741082.728850057\n",
    "total_prov 1092601.6371778247\n",
    "'''"
   ]
  },
  {
   "cell_type": "markdown",
   "id": "47aecd39",
   "metadata": {},
   "source": [
    "### Case 9 Pen New Bat New Asset"
   ]
  },
  {
   "cell_type": "code",
   "execution_count": null,
   "id": "f03de94c",
   "metadata": {},
   "outputs": [
    {
     "name": "stdout",
     "output_type": "stream",
     "text": [
      "new asset cap 131.162\n",
      "new bat cap 36.2014\n",
      "\n",
      "[ERROR] Total RE Provision NOT Matched with Aggregated Quantity\n",
      "Number of unmatched cases: 228\n",
      "\n",
      "Showing First 10 Lines of Mismatched Values\n",
      "Row 330 | Row sums 122.14 | Total gen value 122.15\n",
      "Row 606 | Row sums 93.23 | Total gen value 93.24\n",
      "Row 620 | Row sums 116.21 | Total gen value 116.22\n",
      "Row 621 | Row sums 110.37 | Total gen value 110.38\n",
      "Row 629 | Row sums 43.5 | Total gen value 0.0\n",
      "Row 767 | Row sums 124.53 | Total gen value 124.52\n",
      "Row 828 | Row sums 61.16 | Total gen value 0.0\n",
      "Row 957 | Row sums 127.88 | Total gen value 127.89\n",
      "Row 962 | Row sums 116.31 | Total gen value 116.32\n",
      "Row 1083 | Row sums 102.28 | Total gen value 102.29\n",
      "Row 1106 | Row sums 104.89 | Total gen value 104.9\n",
      "\n",
      "[PASS] Total Energy Provision Matched with Demand at Target CFE%\n",
      "[ERROR] Optimal price NOT Matched\n",
      "computed: 31.2138 In result: 31.213\n",
      "re_cost 28245053.979420558\n",
      "bat_cost 660675.5499999999\n",
      "mkt cost 7034504.146243073\n",
      "res excess rev 41037.02422575046\n",
      "total prov 1150106.9865029736\n"
     ]
    },
    {
     "data": {
      "text/plain": [
       "'\\nCase 8\\nRE cost 28245053.979420554\\nMKT cost 7034504.146243073\\nBat cost 660675.5233809971\\nMKT rev 41037.02422575044\\ntotal_prov 1150106.9865029736\\n'"
      ]
     },
     "execution_count": 31,
     "metadata": {},
     "output_type": "execute_result"
    }
   ],
   "source": [
    "opt_output = pd.read_csv('/home/wpx/TP-REC/PPA_Aggregator_Github/outputs_testing/case_9_1_optimization_output_50_bat.csv')\n",
    "opt_price = float(np.loadtxt('/home/wpx/TP-REC/PPA_Aggregator_Github/outputs_testing/case_9_1_ppa_price_50_bat.txt', dtype='str')[0][4][:6])\n",
    "\n",
    "new_asset_cap = float(np.loadtxt('/home/wpx/TP-REC/PPA_Aggregator_Github/outputs_testing/case_9_1_ppa_price_50_bat.txt', dtype='str')[1][4][:7])\n",
    "\n",
    "bat_capacity = float(np.loadtxt('/home/wpx/TP-REC/PPA_Aggregator_Github/outputs_testing/case_9_1_ppa_price_50_bat.txt', dtype='str')[2][4][:7])\n",
    "bat_output = pd.read_csv('/home/wpx/TP-REC/PPA_Aggregator_Github/outputs_testing/case_9_1_bat_output_50_bat.csv')\n",
    "bat_change = bat_output['Change in Energy (MWh)'].to_numpy()\n",
    "\n",
    "spot_price = pd.read_excel('/home/wpx/TP-REC/PPA_Aggregator_v3_Solar_Simu/input/input/spot_2023.xlsx').to_numpy().flatten()\n",
    "pen_factor = 3\n",
    "pen_cap = 500\n",
    "\n",
    "print('new asset cap', new_asset_cap)\n",
    "print('new bat cap', bat_capacity)\n",
    "print('')\n",
    "\n",
    "case_type = 9\n",
    "matching_lvl = 1\n",
    "lcoe = [20, 23, 25, 30, 35]\n",
    "no_gen = 6\n",
    "no_cus = 3\n",
    "\n",
    "bat_params = [50, bat_capacity, 0.9, 25, 1, 4]\n",
    "new_asset_lcoe = 30\n",
    "\n",
    "tester = Tester(case_type, matching_lvl, no_gen, no_cus, lcoe, opt_output, opt_price, \n",
    "                bat_change = bat_change, bat_params = bat_params,\n",
    "                new_asset_lcoe = new_asset_lcoe, new_asset_pap_price = 20,\n",
    "                spot_price = spot_price, pen_factor = pen_factor, pen_cap = pen_cap)\n",
    "\n",
    "tester.test_total_re_gen()\n",
    "tester.test_matching_level()\n",
    "tester.test_optimal_price()\n",
    "\n",
    "'''\n",
    "Case 8\n",
    "RE cost 28245053.979420554\n",
    "MKT cost 7034504.146243073\n",
    "Bat cost 660675.5233809971\n",
    "MKT rev 41037.02422575044\n",
    "total_prov 1150106.9865029736\n",
    "'''"
   ]
  },
  {
   "cell_type": "markdown",
   "id": "5cbee947",
   "metadata": {},
   "source": [
    "### Case 10 Pen Ex Bat"
   ]
  },
  {
   "cell_type": "code",
   "execution_count": null,
   "id": "2db0c514",
   "metadata": {},
   "outputs": [
    {
     "name": "stdout",
     "output_type": "stream",
     "text": [
      "[PASS] Total RE Provision Matched with Aggregated Quantity\n",
      "[PASS] Total Energy Provision Matched with Demand at Target CFE%\n",
      "[PASS] Optimal Price Matched\n"
     ]
    }
   ],
   "source": [
    "opt_output = pd.read_csv('/home/wpx/TP-REC/PPA_Aggregator_Github/outputs_testing/case_10_0.9_optimization_output.csv')\n",
    "opt_price = float(str(np.loadtxt('/home/wpx/TP-REC/PPA_Aggregator_Github/outputs_testing/case_10_0.9_ppa_price.txt', dtype='str', delimiter=','))[21:28])\n",
    "\n",
    "bat_output = pd.read_csv('/home/wpx/TP-REC/PPA_Aggregator_Github/outputs_testing/case_10_0.9_bat_output.csv')\n",
    "bat_change = bat_output['Change in Energy (MWh)'].to_numpy()\n",
    "\n",
    "spot_price = pd.read_excel('/home/wpx/TP-REC/PPA_Aggregator_v3_Solar_Simu/input/input/spot_2023.xlsx').to_numpy().flatten()\n",
    "pen_factor = 3\n",
    "pen_cap = 500\n",
    "\n",
    "case_type = 10\n",
    "matching_lvl = 0.9\n",
    "lcoe = [20, 23, 25, 30, 35]\n",
    "no_gen = 5\n",
    "no_cus = 3\n",
    "\n",
    "bat_params = [120, 100, 0.9, 25, 1, 4]\n",
    "\n",
    "tester = Tester(case_type, matching_lvl, no_gen, no_cus, lcoe, opt_output, opt_price, \n",
    "                spot_price = spot_price, pen_factor = pen_factor, pen_cap = 500,\n",
    "                bat_change = bat_change, bat_params = bat_params)\n",
    "\n",
    "tester.test_total_re_gen()\n",
    "tester.test_matching_level()\n",
    "tester.test_optimal_price()"
   ]
  },
  {
   "cell_type": "markdown",
   "id": "e4bdb9d1",
   "metadata": {},
   "source": [
    "### Case 11 Pen Ex Bat New Asset"
   ]
  },
  {
   "cell_type": "code",
   "execution_count": null,
   "id": "e9811649",
   "metadata": {},
   "outputs": [
    {
     "name": "stdout",
     "output_type": "stream",
     "text": [
      "[ERROR] Total RE Provision NOT Matched with Aggregated Quantity\n",
      "Number of unmatched cases: 24\n",
      "\n",
      "Showing First 10 Lines of Mismatched Values\n",
      "Row 316 | Row sums 90.63 | Total gen value 90.62\n",
      "Row 604 | Row sums 85.51 | Total gen value 85.5\n",
      "Row 1160 | Row sums 113.55 | Total gen value 113.56\n",
      "Row 1161 | Row sums 119.07 | Total gen value 119.08\n",
      "Row 1466 | Row sums 98.78 | Total gen value 98.79\n",
      "Row 1467 | Row sums 93.23 | Total gen value 93.24\n",
      "Row 1469 | Row sums 92.65 | Total gen value 92.64\n",
      "Row 1670 | Row sums 118.16 | Total gen value 118.15\n",
      "Row 1679 | Row sums 110.89 | Total gen value 110.9\n",
      "Row 1699 | Row sums 117.92 | Total gen value 117.93\n",
      "Row 1709 | Row sums -0.01 | Total gen value 0.0\n",
      "\n",
      "[PASS] Total Energy Provision Matched with Demand at Target CFE%\n",
      "[PASS] Optimal Price Matched\n"
     ]
    }
   ],
   "source": [
    "opt_output = pd.read_csv('/home/wpx/TP-REC/PPA_Aggregator_Github/outputs_testing/case_11_1_optimization_output.csv')\n",
    "opt_price = float(np.loadtxt('/home/wpx/TP-REC/PPA_Aggregator_Github/outputs_testing/case_11_1_ppa_price.txt', dtype='str')[0][4][:7])\n",
    "new_asset_cap = float(np.loadtxt('/home/wpx/TP-REC/PPA_Aggregator_Github/outputs_testing/case_11_1_ppa_price.txt', dtype='str')[1][4][:7])\n",
    "\n",
    "bat_output = pd.read_csv('/home/wpx/TP-REC/PPA_Aggregator_Github/outputs_testing/case_11_1_bat_output.csv')\n",
    "bat_change = bat_output['Change in Energy (MWh)'].to_numpy()\n",
    "\n",
    "spot_price = pd.read_excel('/home/wpx/TP-REC/PPA_Aggregator_v3_Solar_Simu/input/input/spot_2023.xlsx').to_numpy().flatten()\n",
    "pen_factor = 3\n",
    "pen_cap = 500\n",
    "\n",
    "case_type = 11\n",
    "matching_lvl = 1\n",
    "lcoe = [20, 23, 25, 30, 35]\n",
    "no_gen = 6\n",
    "no_cus = 3\n",
    "\n",
    "bat_params = [120, 100, 0.9, 25, 1, 4]\n",
    "new_asset_lcoe = 30\n",
    "new_asset_ppa_price = 20\n",
    "\n",
    "tester = Tester(case_type, matching_lvl, no_gen, no_cus, lcoe, opt_output, opt_price, \n",
    "                spot_price = spot_price, pen_factor = pen_factor, pen_cap = 500,\n",
    "                bat_change = bat_change, bat_params = bat_params,\n",
    "                new_asset_lcoe = new_asset_lcoe, new_asset_pap_price = new_asset_ppa_price)\n",
    "\n",
    "tester.test_total_re_gen()\n",
    "tester.test_matching_level()\n",
    "tester.test_optimal_price()"
   ]
  }
 ],
 "metadata": {
  "kernelspec": {
   "display_name": "stlit",
   "language": "python",
   "name": "python3"
  },
  "language_info": {
   "codemirror_mode": {
    "name": "ipython",
    "version": 3
   },
   "file_extension": ".py",
   "mimetype": "text/x-python",
   "name": "python",
   "nbconvert_exporter": "python",
   "pygments_lexer": "ipython3",
   "version": "3.13.2"
  }
 },
 "nbformat": 4,
 "nbformat_minor": 5
}
